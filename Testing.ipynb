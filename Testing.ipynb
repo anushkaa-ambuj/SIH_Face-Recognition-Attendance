{
 "cells": [
  {
   "cell_type": "markdown",
   "id": "b4c8f3a7",
   "metadata": {},
   "source": [
    "Algorithm\n",
    "\n",
    "1. Cleaning of Data \n",
    "2. Prepare the Database\n",
    "3. Collection of input group pic (sources: app)\n",
    "4. Image Detection & Segmentation\n",
    "5. Image Recognition\n",
    "6. Display of the imp details\n",
    "7. Mark attendance on the app and website\n",
    "8. Additional Features:\n",
    "        i) SMS to the workers\n",
    "        ii) Proper arrangement of output data (on website)\n",
    "        iii) Graphs (not much efficient)\n",
    "        iv) Payments"
   ]
  },
  {
   "cell_type": "markdown",
   "id": "52896a92",
   "metadata": {},
   "source": [
    "### Import Libraries"
   ]
  },
  {
   "cell_type": "code",
   "execution_count": 1,
   "id": "3d26f465",
   "metadata": {},
   "outputs": [],
   "source": [
    "import cv2\n",
    "import face_recognition as fc"
   ]
  },
  {
   "cell_type": "markdown",
   "id": "728b53f7",
   "metadata": {},
   "source": [
    "### Image Detection "
   ]
  },
  {
   "cell_type": "code",
   "execution_count": 2,
   "id": "71290851",
   "metadata": {},
   "outputs": [
    {
     "name": "stdout",
     "output_type": "stream",
     "text": [
      "[(84, 127, 127, 84), (60, 371, 103, 328), (118, 296, 170, 245), (60, 213, 103, 170), (118, 429, 161, 386), (108, 535, 151, 491)]\n"
     ]
    },
    {
     "data": {
      "text/plain": [
       "-1"
      ]
     },
     "execution_count": 2,
     "metadata": {},
     "output_type": "execute_result"
    }
   ],
   "source": [
    "image = fc.load_image_file('Images/group-pic_test1.jpg')\n",
    "image = cv2.cvtColor(image, cv2.COLOR_BGR2RGB)\n",
    "face_location = fc.face_locations(image)\n",
    "print(face_location)\n",
    "\n",
    "for i in range(len(face_location)):\n",
    "    image = cv2.rectangle(image, (face_location[i][3],face_location[i][0]),(face_location[i][1],face_location[i][2]), (255,0,255))\n",
    "    \n",
    "cv2.imshow('Test-1',image)\n",
    "cv2.waitKey(0)"
   ]
  }
 ],
 "metadata": {
  "kernelspec": {
   "display_name": "Python 3 (ipykernel)",
   "language": "python",
   "name": "python3"
  },
  "language_info": {
   "codemirror_mode": {
    "name": "ipython",
    "version": 3
   },
   "file_extension": ".py",
   "mimetype": "text/x-python",
   "name": "python",
   "nbconvert_exporter": "python",
   "pygments_lexer": "ipython3",
   "version": "3.8.8"
  }
 },
 "nbformat": 4,
 "nbformat_minor": 5
}
